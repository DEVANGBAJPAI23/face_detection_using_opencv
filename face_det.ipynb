{
 "cells": [
  {
   "cell_type": "code",
   "execution_count": null,
   "id": "415eda6f",
   "metadata": {},
   "outputs": [],
   "source": [
    "import cv2 as cv\n",
    "import numpy as np\n",
    "\n",
    "capture = cv.VideoCapture(0)\n",
    "\n",
    "haar_cascade = cv.CascadeClassifier('haarcascade_frontalface_default.xml')\n",
    "\n",
    "faces_data = []\n",
    "\n",
    "while True:\n",
    "    isTrue, frame = capture.read()\n",
    "    if not isTrue:\n",
    "        print(\"Failed to capture image\")\n",
    "        break\n",
    "    \n",
    "    gray = cv.cvtColor(frame, cv.COLOR_BGR2GRAY)\n",
    "    \n",
    "    # Detect faces\n",
    "    faces_rect = haar_cascade.detectMultiScale(gray, scaleFactor=1.1, minNeighbors=1)\n",
    "    \n",
    "    faces_data.append(faces_rect)\n",
    "    \n",
    "    for (x, y, w, h) in faces_rect:\n",
    "        cv.rectangle(frame, (x, y), (x + w, y + h), (0, 255, 0), thickness=2)\n",
    "    \n",
    "    print(f'Number of faces found = {len(faces_rect)}')\n",
    "    \n",
    "    cv.imshow('Video', frame)\n",
    "    \n",
    "    if cv.waitKey(1) & 0xFF == ord('s'):\n",
    "        break\n",
    "\n",
    "faces_array = np.array(faces_data, dtype=object)\n",
    "\n",
    "capture.release()\n",
    "cv.destroyAllWindows()\n",
    "print(faces_array)\n"
   ]
  },
  {
   "cell_type": "code",
   "execution_count": null,
   "id": "f4160bb2",
   "metadata": {},
   "outputs": [],
   "source": []
  },
  {
   "cell_type": "code",
   "execution_count": null,
   "id": "425d6c12",
   "metadata": {},
   "outputs": [],
   "source": []
  },
  {
   "cell_type": "code",
   "execution_count": null,
   "id": "0baf5806",
   "metadata": {},
   "outputs": [],
   "source": [
    "\n",
    "\n",
    "\n"
   ]
  },
  {
   "cell_type": "code",
   "execution_count": null,
   "id": "610e36ad",
   "metadata": {},
   "outputs": [],
   "source": []
  },
  {
   "cell_type": "code",
   "execution_count": null,
   "id": "6fdc9bec",
   "metadata": {},
   "outputs": [],
   "source": []
  },
  {
   "cell_type": "code",
   "execution_count": null,
   "id": "28f2d276",
   "metadata": {},
   "outputs": [],
   "source": []
  },
  {
   "cell_type": "code",
   "execution_count": null,
   "id": "ef7b5219",
   "metadata": {},
   "outputs": [],
   "source": []
  },
  {
   "cell_type": "code",
   "execution_count": null,
   "id": "146e7c6e",
   "metadata": {},
   "outputs": [],
   "source": []
  }
 ],
 "metadata": {
  "kernelspec": {
   "display_name": "Python 3 (ipykernel)",
   "language": "python",
   "name": "python3"
  },
  "language_info": {
   "codemirror_mode": {
    "name": "ipython",
    "version": 3
   },
   "file_extension": ".py",
   "mimetype": "text/x-python",
   "name": "python",
   "nbconvert_exporter": "python",
   "pygments_lexer": "ipython3",
   "version": "3.11.5"
  }
 },
 "nbformat": 4,
 "nbformat_minor": 5
}
